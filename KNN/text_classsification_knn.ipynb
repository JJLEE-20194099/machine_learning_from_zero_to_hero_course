{
 "cells": [
  {
   "cell_type": "code",
   "execution_count": 9,
   "metadata": {},
   "outputs": [],
   "source": [
    "import numpy as np\n",
    "import matplotlib.pyplot as plt\n",
    "from sklearn.neighbors import KNeighborsClassifier\n",
    "from sklearn import datasets\n",
    "from sklearn.feature_extraction.text import TfidfVectorizer\n",
    "from sklearn.model_selection import cross_val_score, train_test_split\n",
    "from sklearn.metrics import accuracy_score, classification_report\n",
    "from metric_learn import LMNN"
   ]
  },
  {
   "cell_type": "code",
   "execution_count": 10,
   "metadata": {},
   "outputs": [],
   "source": [
    "newsgroups = datasets.fetch_20newsgroups(subset='all')"
   ]
  },
  {
   "cell_type": "code",
   "execution_count": 11,
   "metadata": {},
   "outputs": [],
   "source": [
    "vectorizer = TfidfVectorizer()"
   ]
  },
  {
   "cell_type": "code",
   "execution_count": 12,
   "metadata": {},
   "outputs": [],
   "source": [
    "knn_clf = KNeighborsClassifier(n_neighbors = 1)"
   ]
  },
  {
   "cell_type": "code",
   "execution_count": 13,
   "metadata": {},
   "outputs": [],
   "source": [
    "X = vectorizer.fit_transform(newsgroups.data)\n",
    "y = newsgroups.target"
   ]
  },
  {
   "cell_type": "code",
   "execution_count": 14,
   "metadata": {},
   "outputs": [],
   "source": [
    "def cross_validation(data, target, classifier, cv=5):\n",
    "    return cross_val_score(classifier, data, target, cv=cv)"
   ]
  },
  {
   "cell_type": "code",
   "execution_count": 15,
   "metadata": {},
   "outputs": [],
   "source": [
    "def knn_newsgroups_classification(X, y, classifier, test_size=0.4):\n",
    "    X_train, X_test, y_train, y_test = train_test_split(X, y, test_size=test_size)\n",
    "    classifier.fit(X_train, y_train)\n",
    "    y_pred = classifier.predict(X_test)\n",
    "    print (\"accuracy before cross-validation is %0.2f\" % accuracy_score(y_test, y_pred))\n",
    "    scores = cross_validation(X, y, classifier, cv=5)\n",
    "    print(\"Accuracy: %0.2f (+/- %0.2f)\" % (scores.mean(), scores.std() * 2))\n",
    "    print(\"Classification report: \")\n",
    "    print(classification_report(y_test, y_pred))"
   ]
  },
  {
   "cell_type": "code",
   "execution_count": 16,
   "metadata": {},
   "outputs": [
    {
     "name": "stdout",
     "output_type": "stream",
     "text": [
      "accuracy before cross-validation is 0.81\n",
      "Accuracy: 0.83 (+/- 0.01)\n",
      "Classification report: \n",
      "              precision    recall  f1-score   support\n",
      "\n",
      "           0       0.77      0.89      0.83       312\n",
      "           1       0.73      0.66      0.69       383\n",
      "           2       0.74      0.73      0.74       384\n",
      "           3       0.72      0.67      0.69       415\n",
      "           4       0.78      0.71      0.74       401\n",
      "           5       0.82      0.74      0.77       419\n",
      "           6       0.68      0.64      0.66       370\n",
      "           7       0.82      0.80      0.81       391\n",
      "           8       0.89      0.89      0.89       398\n",
      "           9       0.89      0.86      0.87       401\n",
      "          10       0.85      0.93      0.89       413\n",
      "          11       0.85      0.90      0.88       397\n",
      "          12       0.75      0.73      0.74       350\n",
      "          13       0.85      0.83      0.84       409\n",
      "          14       0.86      0.90      0.88       408\n",
      "          15       0.83      0.86      0.84       397\n",
      "          16       0.85      0.85      0.85       368\n",
      "          17       0.92      0.94      0.93       376\n",
      "          18       0.72      0.85      0.78       303\n",
      "          19       0.78      0.77      0.77       244\n",
      "\n",
      "    accuracy                           0.81      7539\n",
      "   macro avg       0.80      0.81      0.81      7539\n",
      "weighted avg       0.81      0.81      0.81      7539\n",
      "\n"
     ]
    }
   ],
   "source": [
    "knn_newsgroups_classification(X, y, knn_clf)"
   ]
  }
 ],
 "metadata": {
  "interpreter": {
   "hash": "ac59ebe37160ed0dfa835113d9b8498d9f09ceb179beaac4002f036b9467c963"
  },
  "kernelspec": {
   "display_name": "Python 3.9.7 64-bit",
   "language": "python",
   "name": "python3"
  },
  "language_info": {
   "codemirror_mode": {
    "name": "ipython",
    "version": 3
   },
   "file_extension": ".py",
   "mimetype": "text/x-python",
   "name": "python",
   "nbconvert_exporter": "python",
   "pygments_lexer": "ipython3",
   "version": "3.9.7"
  },
  "orig_nbformat": 4
 },
 "nbformat": 4,
 "nbformat_minor": 2
}
