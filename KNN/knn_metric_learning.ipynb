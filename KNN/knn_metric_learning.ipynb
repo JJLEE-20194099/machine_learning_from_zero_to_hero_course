{
 "cells": [
  {
   "cell_type": "code",
   "execution_count": 66,
   "metadata": {},
   "outputs": [],
   "source": [
    "import pandas as pd\n",
    "import numpy as np\n",
    "from sklearn.neighbors import KNeighborsClassifier\n",
    "from sklearn.model_selection import train_test_split\n",
    "from sklearn import metrics\n",
    "import matplotlib.pyplot as plt\n",
    "from metric_learn import LMNN\n",
    "import time"
   ]
  },
  {
   "cell_type": "code",
   "execution_count": 67,
   "metadata": {},
   "outputs": [],
   "source": [
    "from sklearn.datasets import load_breast_cancer\n",
    "breast_cancer_data = load_breast_cancer()"
   ]
  },
  {
   "cell_type": "code",
   "execution_count": 68,
   "metadata": {},
   "outputs": [
    {
     "name": "stdout",
     "output_type": "stream",
     "text": [
      "Số chiều của bộ dữ liệu:  (569, 30)\n"
     ]
    }
   ],
   "source": [
    "X = breast_cancer_data['data']\n",
    "y = breast_cancer_data['target']\n",
    "print(\"Số chiều của bộ dữ liệu: \", X.shape)"
   ]
  },
  {
   "cell_type": "code",
   "execution_count": 69,
   "metadata": {},
   "outputs": [],
   "source": [
    "X_train, X_test, y_train, y_test = train_test_split(X, y, test_size=1/2)"
   ]
  },
  {
   "cell_type": "code",
   "execution_count": 70,
   "metadata": {},
   "outputs": [
    {
     "name": "stdout",
     "output_type": "stream",
     "text": [
      "Print results for 10 test data samples in test:\n",
      "Predicted labels:  [1 0 1 0 1 1 0 1 0 0]\n",
      "Ground truth:      [1 0 0 0 1 1 0 1 0 0]\n"
     ]
    }
   ],
   "source": [
    "knn_clf = KNeighborsClassifier(n_neighbors=1)\n",
    "knn_clf.fit(X_train, y_train)\n",
    "y_pred = knn_clf.predict(X_test)\n",
    "\n",
    "print(\"Print results for 10 test data samples in test:\")\n",
    "print(\"Predicted labels: \", y_pred[:10])\n",
    "print(\"Ground truth:     \", y_test[:10])"
   ]
  },
  {
   "cell_type": "code",
   "execution_count": 71,
   "metadata": {},
   "outputs": [
    {
     "name": "stdout",
     "output_type": "stream",
     "text": [
      "Using 1 neighbor, accuracy score: 93.68%\n",
      "Confusion Matrix:\n",
      " [[ 86  11]\n",
      " [  7 181]]\n"
     ]
    }
   ],
   "source": [
    "print(f'Using 1 neighbor, accuracy score: {round(100 * metrics.accuracy_score(y_test, y_pred), ndigits=2)}%')\n",
    "print(\"Confusion Matrix:\\n\", metrics.confusion_matrix(y_test, y_pred))"
   ]
  },
  {
   "cell_type": "code",
   "execution_count": 72,
   "metadata": {},
   "outputs": [],
   "source": [
    "error_list = []\n",
    "optimal_k = 1\n",
    "optimal_error = 1\n",
    "for quantity in range(1, 51):\n",
    "    knn_clf = KNeighborsClassifier(n_neighbors=quantity)\n",
    "    knn_clf.fit(X_train, y_train)\n",
    "    y_pred = knn_clf.predict(X_test)\n",
    "    error_list.append(np.mean(y_test != y_pred))\n",
    "    if optimal_error > np.mean(y_test != y_pred):\n",
    "        optimal_error = np.mean(y_test != y_pred)\n",
    "        optimal_k = quantity"
   ]
  },
  {
   "cell_type": "code",
   "execution_count": 73,
   "metadata": {},
   "outputs": [
    {
     "data": {
      "text/plain": [
       "Text(0.5, 0, 'Number of Neighbors used in KNeighborsRegressor')"
      ]
     },
     "execution_count": 73,
     "metadata": {},
     "output_type": "execute_result"
    },
    {
     "data": {
      "image/png": "[encoded data removed]",
      "text/plain": [
       "<Figure size 720x504 with 1 Axes>"
      ]
     },
     "metadata": {
      "needs_background": "light"
     },
     "output_type": "display_data"
    }
   ],
   "source": [
    "plt.figure(figsize=(10, 7))\n",
    "plt.plot(range(1, 51), error_list, color=\"blue\", linestyle=\"dashed\", marker=\"o\", markerfacecolor=\"red\", markersize=10)\n",
    "plt.ylabel(\"Mean Squared Error\")\n",
    "plt.xlabel(\"Number of Neighbors used in KNeighborsRegressor\")"
   ]
  },
  {
   "cell_type": "code",
   "execution_count": 74,
   "metadata": {},
   "outputs": [
    {
     "name": "stdout",
     "output_type": "stream",
     "text": [
      "Print results for 10 test data samples in test:\n",
      "Predicted labels:  [1 0 1 0 1 1 0 1 0 0]\n",
      "Ground truth:      [1 0 0 0 1 1 0 1 0 0]\n"
     ]
    }
   ],
   "source": [
    "knn_clf = KNeighborsClassifier(n_neighbors=optimal_k)\n",
    "knn_clf.fit(X_train, y_train)\n",
    "y_pred = knn_clf.predict(X_test)\n",
    "\n",
    "print(\"Print results for 10 test data samples in test:\")\n",
    "print(\"Predicted labels: \", y_pred[:10])\n",
    "print(\"Ground truth:     \", y_test[:10])"
   ]
  },
  {
   "cell_type": "code",
   "execution_count": 75,
   "metadata": {},
   "outputs": [
    {
     "name": "stdout",
     "output_type": "stream",
     "text": [
      "Using 5 neighbors, accuracy score: 94.74%\n",
      "Confusion Matrix:\n",
      " [[ 88   9]\n",
      " [  6 182]]\n"
     ]
    }
   ],
   "source": [
    "print(f'Using {optimal_k} neighbors, accuracy score: {round(100 * metrics.accuracy_score(y_test, y_pred), ndigits=2)}%')\n",
    "print(\"Confusion Matrix:\\n\", metrics.confusion_matrix(y_test, y_pred))"
   ]
  },
  {
   "cell_type": "code",
   "execution_count": 76,
   "metadata": {},
   "outputs": [
    {
     "data": {
      "text/plain": [
       "LMNN(k=5, learn_rate=1e-06)"
      ]
     },
     "execution_count": 76,
     "metadata": {},
     "output_type": "execute_result"
    }
   ],
   "source": [
    "\n",
    "start_time = time.time()\n",
    "lmnn = LMNN(k=optimal_k, learn_rate=1e-6)\n",
    "lmnn.fit(X_train, y_train)"
   ]
  },
  {
   "cell_type": "code",
   "execution_count": 77,
   "metadata": {},
   "outputs": [
    {
     "name": "stdout",
     "output_type": "stream",
     "text": [
      "Print results for 10 test data samples in test:\n",
      "Predicted labels:  [1 0 0 0 1 1 0 1 0 0]\n",
      "Ground truth:      [1 0 0 0 1 1 0 1 0 0]\n",
      "Running time: 13.328141689300537\n"
     ]
    }
   ],
   "source": [
    "knn_clf = KNeighborsClassifier(metric=lmnn.get_metric())\n",
    "knn_clf.fit(X_train, y_train)\n",
    "y_pred = knn_clf.predict(X_test)\n",
    "end_time = time.time()\n",
    "\n",
    "print(\"Print results for 10 test data samples in test:\")\n",
    "print(\"Predicted labels: \", y_pred[:10])\n",
    "print(\"Ground truth:     \", y_test[:10])\n",
    "print(\"Running time:\", (end_time - start_time))"
   ]
  },
  {
   "cell_type": "code",
   "execution_count": 78,
   "metadata": {},
   "outputs": [
    {
     "name": "stdout",
     "output_type": "stream",
     "text": [
      "Using LMNN with 5 neighbors, accuracy score: 95.44%\n",
      "Confusion Matrix:\n",
      " [[ 86  11]\n",
      " [  2 186]]\n"
     ]
    }
   ],
   "source": [
    "print(f'Using LMNN with {optimal_k} neighbors, accuracy score: {round(100 * metrics.accuracy_score(y_test, y_pred), ndigits=2)}%')\n",
    "print(\"Confusion Matrix:\\n\", metrics.confusion_matrix(y_test, y_pred))"
   ]
  },
  {
   "cell_type": "code",
   "execution_count": 79,
   "metadata": {},
   "outputs": [],
   "source": [
    "from sklearn.pipeline import make_pipeline"
   ]
  },
  {
   "cell_type": "code",
   "execution_count": 80,
   "metadata": {},
   "outputs": [
    {
     "name": "stdout",
     "output_type": "stream",
     "text": [
      "Print results for 10 test data samples in test:\n",
      "Predicted labels:  [1 0 0 0 1 1 0 1 0 0]\n",
      "Ground truth:      [1 0 0 0 1 1 0 1 0 0]\n",
      "Running time: 9.71248459815979\n"
     ]
    }
   ],
   "source": [
    "start_time = time.time()\n",
    "knn_clf = make_pipeline(LMNN(k=optimal_k, learn_rate=1e-6), KNeighborsClassifier())\n",
    "knn_clf.fit(X_train, y_train)\n",
    "y_pred = knn_clf.predict(X_test)\n",
    "end_time = time.time()\n",
    "\n",
    "print(\"Print results for 10 test data samples in test:\")\n",
    "print(\"Predicted labels: \", y_pred[:10])\n",
    "print(\"Ground truth:     \", y_test[:10])\n",
    "print(\"Running time:\", (end_time - start_time))"
   ]
  },
  {
   "cell_type": "code",
   "execution_count": 81,
   "metadata": {},
   "outputs": [
    {
     "name": "stdout",
     "output_type": "stream",
     "text": [
      "Using optimal_k neighbors, accuracy score: 95.44%\n",
      "Confusion Matrix:\n",
      " [[ 86  11]\n",
      " [  2 186]]\n"
     ]
    }
   ],
   "source": [
    "print(f'Using optimal_k neighbors, accuracy score: {round(100 * metrics.accuracy_score(y_test, y_pred), ndigits=2)}%')\n",
    "print(\"Confusion Matrix:\\n\", metrics.confusion_matrix(y_test, y_pred))"
   ]
  },
  {
   "cell_type": "code",
   "execution_count": 82,
   "metadata": {},
   "outputs": [],
   "source": [
    "error_list = []\n",
    "optimal_k = 1\n",
    "optimal_error = 1\n",
    "for quantity in range(1, 15):\n",
    "    knn_clf = make_pipeline(LMNN(k = quantity), KNeighborsClassifier())\n",
    "    knn_clf.fit(X_train, y_train)\n",
    "    y_pred = knn_clf.predict(X_test)\n",
    "    error_list.append(np.mean(y_test != y_pred))\n",
    "    if optimal_error > np.mean(y_test != y_pred):\n",
    "        optimal_error = np.mean(y_test != y_pred)\n",
    "        optimal_k = quantity\n",
    "    "
   ]
  },
  {
   "cell_type": "code",
   "execution_count": 83,
   "metadata": {},
   "outputs": [
    {
     "data": {
      "text/plain": [
       "Text(0.5, 0, 'Number of Neighbors used in KNeighborsRegressor')"
      ]
     },
     "execution_count": 83,
     "metadata": {},
     "output_type": "execute_result"
    },
    {
     "data": {
      "image/png": "[encoded data removed]",
      "text/plain": [
       "<Figure size 720x504 with 1 Axes>"
      ]
     },
     "metadata": {
      "needs_background": "light"
     },
     "output_type": "display_data"
    }
   ],
   "source": [
    "plt.figure(figsize=(10, 7))\n",
    "plt.plot(range(1, 15), error_list, color=\"blue\", linestyle=\"dashed\", marker=\"o\", markerfacecolor=\"red\", markersize=10)\n",
    "plt.ylabel(\"Mean Squared Error\")\n",
    "plt.xlabel(\"Number of Neighbors used in KNeighborsRegressor\")"
   ]
  },
  {
   "cell_type": "code",
   "execution_count": 84,
   "metadata": {},
   "outputs": [
    {
     "name": "stdout",
     "output_type": "stream",
     "text": [
      "Print results for 10 test data samples in test:\n",
      "Predicted labels:  [1 0 0 0 1 1 0 1 0 0]\n",
      "Ground truth:      [1 0 0 0 1 1 0 1 0 0]\n",
      "Running time: 13.423003435134888\n"
     ]
    }
   ],
   "source": [
    "start_time = time.time()\n",
    "knn_clf = make_pipeline(LMNN(k=optimal_k, learn_rate=1e-6), KNeighborsClassifier())\n",
    "knn_clf.fit(X_train, y_train)\n",
    "y_pred = knn_clf.predict(X_test)\n",
    "end_time = time.time()\n",
    "\n",
    "print(\"Print results for 10 test data samples in test:\")\n",
    "print(\"Predicted labels: \", y_pred[:10])\n",
    "print(\"Ground truth:     \", y_test[:10])\n",
    "print(\"Running time:\", (end_time - start_time))"
   ]
  },
  {
   "cell_type": "code",
   "execution_count": 85,
   "metadata": {},
   "outputs": [
    {
     "name": "stdout",
     "output_type": "stream",
     "text": [
      "Using 9 neighbors, accuracy score: 96.49%\n",
      "Confusion Matrix:\n",
      " [[ 91   6]\n",
      " [  4 184]]\n"
     ]
    }
   ],
   "source": [
    "print(f'Using {optimal_k} neighbors, accuracy score: {round(100 * metrics.accuracy_score(y_test, y_pred), ndigits=2)}%')\n",
    "print(\"Confusion Matrix:\\n\", metrics.confusion_matrix(y_test, y_pred))"
   ]
  }
 ],
 "metadata": {
  "interpreter": {
   "hash": "ac59ebe37160ed0dfa835113d9b8498d9f09ceb179beaac4002f036b9467c963"
  },
  "kernelspec": {
   "display_name": "Python 3.9.7 64-bit",
   "language": "python",
   "name": "python3"
  },
  "language_info": {
   "codemirror_mode": {
    "name": "ipython",
    "version": 3
   },
   "file_extension": ".py",
   "mimetype": "text/x-python",
   "name": "python",
   "nbconvert_exporter": "python",
   "pygments_lexer": "ipython3",
   "version": "3.9.7"
  },
  "orig_nbformat": 4
 },
 "nbformat": 4,
 "nbformat_minor": 2
}
